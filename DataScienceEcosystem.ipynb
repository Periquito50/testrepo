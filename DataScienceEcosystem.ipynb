{
 "cells": [
  {
   "cell_type": "markdown",
   "id": "4369f944-6546-4c86-8e2e-0dd2b00690dd",
   "metadata": {},
   "source": [
    "# Data Science Tools and Ecosystems"
   ]
  },
  {
   "cell_type": "markdown",
   "id": "640241d7-00b4-47c2-9064-45e669813519",
   "metadata": {},
   "source": [
    "In this notebook, Data Science Tools and Ecosystem are summarized."
   ]
  },
  {
   "cell_type": "markdown",
   "id": "49179a0b-f4c0-4fb4-bf46-ad7ad8f4855f",
   "metadata": {},
   "source": [
    "_Objetives_\n",
    "- Learn some popular lenguages for Data Science\n",
    "- Learn some commonly used libraries used by Data Science\n",
    "- Learn to make simple arithmetic codes on Jupyter"
   ]
  },
  {
   "cell_type": "markdown",
   "id": "62169005-a538-488c-b9cd-b1ab332adc3d",
   "metadata": {},
   "source": [
    "Some of the popular languages that Data Scientists use are:\n",
    "\n",
    "- Python\n",
    "- JavaScript\n",
    "- Java\n",
    "  "
   ]
  },
  {
   "cell_type": "markdown",
   "id": "4fe0d3c3-ad64-45d7-9a14-3579ffc51c34",
   "metadata": {},
   "source": [
    "Some of the commonly used libraries used by Data Scientists include:\n",
    "\n",
    "- Pandas\n",
    "- NumPy\n",
    "- Keras"
   ]
  },
  {
   "cell_type": "markdown",
   "id": "152c2fda-7112-4555-96cb-dd0b352ea9a3",
   "metadata": {},
   "source": [
    "|Data Science Tools|\n",
    "|------------------|\n",
    "|Spark|\n",
    "|R Studio’s|\n",
    "|Weka|\n",
    "   "
   ]
  },
  {
   "cell_type": "markdown",
   "id": "d27bef88-456f-4dba-93c2-cd0620b44e9b",
   "metadata": {},
   "source": [
    "### Below are a few examples of evaluating arithmetic expressions in Python.\n"
   ]
  },
  {
   "cell_type": "code",
   "execution_count": 3,
   "id": "aa047251-5204-4fc1-934f-fb1e77628a15",
   "metadata": {},
   "outputs": [
    {
     "data": {
      "text/plain": [
       "17"
      ]
     },
     "execution_count": 3,
     "metadata": {},
     "output_type": "execute_result"
    }
   ],
   "source": [
    "#This a simple arithmetic expression to mutiply then add integers\n",
    "(3*4)+5\n"
   ]
  },
  {
   "cell_type": "code",
   "execution_count": 13,
   "id": "b8a1a0a1-3172-4987-821b-927fb5e32b86",
   "metadata": {},
   "outputs": [
    {
     "name": "stdout",
     "output_type": "stream",
     "text": [
      "3.3333333333333335 Hours\n"
     ]
    }
   ],
   "source": [
    "#This will convert 200 minutes to hours by diving by 60.\n",
    "a=(200/60)\n",
    "\n",
    "print((a),\"Hours\")"
   ]
  },
  {
   "cell_type": "markdown",
   "id": "a829ae5c-7ea4-4cf6-bd61-037ebcaa3132",
   "metadata": {},
   "source": [
    "Author\n",
    "## Diego Armando Gutierrez Diaz"
   ]
  },
  {
   "cell_type": "code",
   "execution_count": null,
   "id": "f4d008b6-94f2-4db6-8eb1-6a5644fa034f",
   "metadata": {},
   "outputs": [],
   "source": []
  }
 ],
 "metadata": {
  "kernelspec": {
   "display_name": "Python 3 (ipykernel)",
   "language": "python",
   "name": "python3"
  },
  "language_info": {
   "codemirror_mode": {
    "name": "ipython",
    "version": 3
   },
   "file_extension": ".py",
   "mimetype": "text/x-python",
   "name": "python",
   "nbconvert_exporter": "python",
   "pygments_lexer": "ipython3",
   "version": "3.11.5"
  }
 },
 "nbformat": 4,
 "nbformat_minor": 5
}
